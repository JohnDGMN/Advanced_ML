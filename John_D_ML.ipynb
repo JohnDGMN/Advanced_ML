{
 "cells": [
  {
   "cell_type": "code",
   "execution_count": 1,
   "metadata": {
    "id": "Tdx7F4LH5rGj"
   },
   "outputs": [
    {
     "name": "stderr",
     "output_type": "stream",
     "text": [
      "2023-10-04 12:21:27.914245: I tensorflow/core/platform/cpu_feature_guard.cc:182] This TensorFlow binary is optimized to use available CPU instructions in performance-critical operations.\n",
      "To enable the following instructions: AVX2 FMA, in other operations, rebuild TensorFlow with the appropriate compiler flags.\n"
     ]
    }
   ],
   "source": [
    "# John Oliver De Guzman\n",
    "# Formula: Circumference of a circle, Circumference = 2 * pi * radius\n",
    "\n",
    "import tensorflow as tf\n",
    "import numpy as np\n",
    "import matplotlib.pyplot as plt\n",
    "from keras.models import Sequential\n",
    "from keras.layers import Activation, Dense"
   ]
  },
  {
   "cell_type": "code",
   "execution_count": 2,
   "metadata": {
    "id": "WKj6-L2X6JNo"
   },
   "outputs": [],
   "source": [
    "radius = np.array([2.0, 4.0, 8.0, 7.0, 6.0, 5.0, 1.0, 11.0, 3.0, 5.0, 4.0, 2.0], dtype=float)\n",
    "circumference = np.array([12.57, 25.13, 50.27, 43.98, 37.70, 31.42, 6.28, 69.12, 18.85, 31.42, 25.13, 12.57], dtype=float)"
   ]
  },
  {
   "cell_type": "code",
   "execution_count": 3,
   "metadata": {
    "colab": {
     "base_uri": "https://localhost:8080/"
    },
    "id": "dv_KUZrF7lO-",
    "outputId": "a4c97666-2fcd-4b56-f6d5-2f380f37a6de"
   },
   "outputs": [
    {
     "name": "stdout",
     "output_type": "stream",
     "text": [
      "Radius = 2.0, Circumference = 12.57\n",
      "Radius = 4.0, Circumference = 25.13\n",
      "Radius = 8.0, Circumference = 50.27\n",
      "Radius = 7.0, Circumference = 43.98\n",
      "Radius = 6.0, Circumference = 37.7\n",
      "Radius = 5.0, Circumference = 31.42\n",
      "Radius = 1.0, Circumference = 6.28\n",
      "Radius = 11.0, Circumference = 69.12\n",
      "Radius = 3.0, Circumference = 18.85\n",
      "Radius = 5.0, Circumference = 31.42\n",
      "Radius = 4.0, Circumference = 25.13\n",
      "Radius = 2.0, Circumference = 12.57\n"
     ]
    }
   ],
   "source": [
    "for i,c in enumerate(radius):\n",
    "    print( \"Radius = \" + str(c) + \", Circumference = \" + str(circumference[i]))"
   ]
  },
  {
   "cell_type": "code",
   "execution_count": 4,
   "metadata": {
    "colab": {
     "base_uri": "https://localhost:8080/"
    },
    "id": "dHFtrLKc72Cv",
    "outputId": "abc94602-82a9-4d78-a2a8-4ada9c91eca9",
    "scrolled": true
   },
   "outputs": [
    {
     "name": "stdout",
     "output_type": "stream",
     "text": [
      "Model: \"sequential\"\n",
      "_________________________________________________________________\n",
      " Layer (type)                Output Shape              Param #   \n",
      "=================================================================\n",
      " dense (Dense)               (None, 1)                 2         \n",
      "                                                                 \n",
      "=================================================================\n",
      "Total params: 2 (8.00 Byte)\n",
      "Trainable params: 2 (8.00 Byte)\n",
      "Non-trainable params: 0 (0.00 Byte)\n",
      "_________________________________________________________________\n"
     ]
    }
   ],
   "source": [
    "layer_0 = Dense(units=1, input_shape=[1])\n",
    "model = Sequential()\n",
    "model.add(layer_0)\n",
    "model.compile(loss='mean_squared_error', optimizer=tf.keras.optimizers.Adam(0.1))\n",
    "model.summary()"
   ]
  },
  {
   "cell_type": "code",
   "execution_count": 5,
   "metadata": {
    "colab": {
     "base_uri": "https://localhost:8080/"
    },
    "id": "svxzUfk28r7i",
    "outputId": "549448cf-4c63-4853-ee1a-7dc2bfe5e6a6"
   },
   "outputs": [],
   "source": [
    "history = model.fit(x=radius, y=circumference, epochs=1000, verbose=False)"
   ]
  },
  {
   "cell_type": "code",
   "execution_count": 6,
   "metadata": {
    "id": "JPDKQkli9r5N"
   },
   "outputs": [
    {
     "data": {
      "text/plain": [
       "[<matplotlib.lines.Line2D at 0x166211410>]"
      ]
     },
     "execution_count": 6,
     "metadata": {},
     "output_type": "execute_result"
    },
    {
     "data": {
      "image/png": "[encoded data removed]",
      "text/plain": [
       "<Figure size 640x480 with 1 Axes>"
      ]
     },
     "metadata": {},
     "output_type": "display_data"
    }
   ],
   "source": [
    "plt.xlabel('Epoch')\n",
    "plt.ylabel(\"Loss\")\n",
    "plt.plot(history.history['loss'])"
   ]
  },
  {
   "cell_type": "code",
   "execution_count": 7,
   "metadata": {
    "id": "50Mk9I_Z9uRz"
   },
   "outputs": [
    {
     "name": "stdout",
     "output_type": "stream",
     "text": [
      "1/1 [==============================] - 0s 74ms/step\n",
      "[[625.4535]]\n"
     ]
    }
   ],
   "source": [
    "# Serves as r in C = 2 * 3.14 * r\n",
    "print(model.predict([100.0]))"
   ]
  },
  {
   "cell_type": "code",
   "execution_count": 8,
   "metadata": {
    "id": "idz4z_e-99k6"
   },
   "outputs": [
    {
     "name": "stdout",
     "output_type": "stream",
     "text": [
      "These are the layer variables: [array([[6.2526546]], dtype=float32), array([0.18803214], dtype=float32)]\n"
     ]
    }
   ],
   "source": [
    "print(\"These are the layer variables: \" + str(layer_0.get_weights()))\n",
    "# The formula is C = 2 * 3.14 * r, weight is "
   ]
  },
  {
   "cell_type": "code",
   "execution_count": null,
   "metadata": {
    "id": "6eqCrj_8-KHN"
   },
   "outputs": [],
   "source": []
  }
 ],
 "metadata": {
  "colab": {
   "provenance": []
  },
  "kernelspec": {
   "display_name": "Python 3 (ipykernel)",
   "language": "python",
   "name": "python3"
  },
  "language_info": {
   "codemirror_mode": {
    "name": "ipython",
    "version": 3
   },
   "file_extension": ".py",
   "mimetype": "text/x-python",
   "name": "python",
   "nbconvert_exporter": "python",
   "pygments_lexer": "ipython3",
   "version": "3.11.4"
  }
 },
 "nbformat": 4,
 "nbformat_minor": 1
}
